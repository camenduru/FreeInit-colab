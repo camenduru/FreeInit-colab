{
  "cells": [
    {
      "cell_type": "markdown",
      "metadata": {
        "id": "view-in-github"
      },
      "source": [
        "[![Open In Colab](https://colab.research.google.com/assets/colab-badge.svg)](https://colab.research.google.com/github/camenduru/FreeInit-colab/blob/main/FreeInit_gradio_colab.ipynb)"
      ]
    },
    {
      "cell_type": "code",
      "execution_count": null,
      "metadata": {
        "id": "VjYy0F2gZIPR"
      },
      "outputs": [],
      "source": [
        "%cd /content\n",
        "!git clone -b dev https://github.com/camenduru/FreeInit-hf\n",
        "%cd /content/FreeInit-hf\n",
        "\n",
        "!pip install -q omegaconf diffusers[torch]==0.11.1 einops accelerate gradio==3.41.2\n",
        "!pip install -q https://download.pytorch.org/whl/cu121/xformers-0.0.22.post7-cp310-cp310-manylinux2014_x86_64.whl\n",
        "\n",
        "!apt -y install -qq aria2\n",
        "!aria2c --console-log-level=error -c -x 16 -s 16 -k 1M https://huggingface.co/spaces/TianxingWu/FreeInit/resolve/main/models/DreamBooth_LoRA/lyriel_v16.safetensors -d /content/FreeInit-hf/models/DreamBooth_LoRA -o lyriel_v16.safetensors\n",
        "!aria2c --console-log-level=error -c -x 16 -s 16 -k 1M https://huggingface.co/spaces/TianxingWu/FreeInit/resolve/main/models/DreamBooth_LoRA/majicmixRealistic_v5Preview.safetensors -d /content/FreeInit-hf/models/DreamBooth_LoRA -o majicmixRealistic_v5Preview.safetensors\n",
        "!aria2c --console-log-level=error -c -x 16 -s 16 -k 1M https://huggingface.co/spaces/TianxingWu/FreeInit/resolve/main/models/DreamBooth_LoRA/rcnzCartoon3d_v10.safetensors -d /content/FreeInit-hf/models/DreamBooth_LoRA -o rcnzCartoon3d_v10.safetensors\n",
        "!aria2c --console-log-level=error -c -x 16 -s 16 -k 1M https://huggingface.co/spaces/TianxingWu/FreeInit/resolve/main/models/DreamBooth_LoRA/realisticVisionV51_v20Novae.safetensors -d /content/FreeInit-hf/models/DreamBooth_LoRA -o realisticVisionV51_v20Novae.safetensors\n",
        "!aria2c --console-log-level=error -c -x 16 -s 16 -k 1M https://huggingface.co/spaces/TianxingWu/FreeInit/resolve/main/models/DreamBooth_LoRA/toonyou_beta3.safetensors -d /content/FreeInit-hf/models/DreamBooth_LoRA -o toonyou_beta3.safetensors\n",
        "!aria2c --console-log-level=error -c -x 16 -s 16 -k 1M https://huggingface.co/spaces/TianxingWu/FreeInit/resolve/main/models/Motion_Module/mm_sd_v14.ckpt -d /content/FreeInit-hf/models/Motion_Module -o mm_sd_v14.ckpt\n",
        "!aria2c --console-log-level=error -c -x 16 -s 16 -k 1M https://huggingface.co/spaces/TianxingWu/FreeInit/resolve/main/models/Motion_Module/mm_sd_v15.ckpt -d /content/FreeInit-hf/models/Motion_Module -o mm_sd_v15.ckpt\n",
        "!aria2c --console-log-level=error -c -x 16 -s 16 -k 1M https://huggingface.co/spaces/TianxingWu/FreeInit/resolve/main/models/StableDiffusion/stable-diffusion-v1-5/text_encoder/pytorch_model.bin -d /content/FreeInit-hf/models/StableDiffusion/stable-diffusion-v1-5/text_encoder -o pytorch_model.bin\n",
        "!aria2c --console-log-level=error -c -x 16 -s 16 -k 1M https://huggingface.co/spaces/TianxingWu/FreeInit/resolve/main/models/StableDiffusion/stable-diffusion-v1-5/unet/diffusion_pytorch_model.bin -d /content/FreeInit-hf/models/StableDiffusion/stable-diffusion-v1-5/unet -o diffusion_pytorch_model.bin\n",
        "!aria2c --console-log-level=error -c -x 16 -s 16 -k 1M https://huggingface.co/spaces/TianxingWu/FreeInit/resolve/main/models/StableDiffusion/stable-diffusion-v1-5/vae/diffusion_pytorch_model.bin -d /content/FreeInit-hf/models/StableDiffusion/stable-diffusion-v1-5/vae -o diffusion_pytorch_model.bin\n",
        "\n",
        "!python app.py"
      ]
    }
  ],
  "metadata": {
    "accelerator": "GPU",
    "colab": {
      "gpuType": "T4",
      "provenance": []
    },
    "kernelspec": {
      "display_name": "Python 3",
      "name": "python3"
    },
    "language_info": {
      "name": "python"
    }
  },
  "nbformat": 4,
  "nbformat_minor": 0
}
