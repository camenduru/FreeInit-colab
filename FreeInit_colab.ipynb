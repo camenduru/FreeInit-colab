{
  "cells": [
    {
      "cell_type": "markdown",
      "metadata": {
        "id": "view-in-github"
      },
      "source": [
        "[![Open In Colab](https://colab.research.google.com/assets/colab-badge.svg)](https://colab.research.google.com/github/camenduru/HumanGaussian-colab/blob/main/HumanGaussian_colab.ipynb)"
      ]
    },
    {
      "cell_type": "code",
      "execution_count": null,
      "metadata": {
        "id": "VjYy0F2gZIPR"
      },
      "outputs": [],
      "source": [
        "%cd /content\n",
        "!git clone -b v1.0 https://github.com/camenduru/FreeInit\n",
        "%cd /content/FreeInit\n",
        "\n",
        "!pip install -q torch==2.0.1+cu118 torchvision==0.15.2+cu118 torchaudio==2.0.2+cu118 torchtext==0.15.2 torchdata==0.6.1 --extra-index-url https://download.pytorch.org/whl/cu118 -U\n",
        "!pip install omegaconf diffusers[torch]==0.11.1 einops accelerate xformers==0.0.20\n",
        "\n",
        "%cd /content/FreeInit/examples/AnimateDiff\n",
        "!rm -rf /content/FreeInit/examples/AnimateDiff/models/StableDiffusion\n",
        "!git clone -b fp16 https://huggingface.co/runwayml/stable-diffusion-v1-5 /content/FreeInit/examples/AnimateDiff/models/StableDiffusion\n",
        "\n",
        "!apt -y install -qq aria2\n",
        "!aria2c --console-log-level=error -c -x 16 -s 16 -k 1M https://huggingface.co/camenduru/AnimateDiff/resolve/main/mm_sd_v15_v2.ckpt -d /content/FreeInit/examples/AnimateDiff/models/Motion_Module -o mm_sd_v15_v2.ckpt\n",
        "!aria2c --console-log-level=error -c -x 16 -s 16 -k 1M https://huggingface.co/camenduru/AnimateDiff/resolve/main/realisticVisionV20_v20.safetensors -d /content/FreeInit/examples/AnimateDiff/models/DreamBooth_LoRA -o realisticVisionV20_v20.safetensors"
      ]
    },
    {
      "cell_type": "code",
      "execution_count": null,
      "metadata": {},
      "outputs": [],
      "source": [
        "%cd /content/FreeInit/examples/AnimateDiff\n",
        "!python -m scripts.animate_with_freeinit \\\n",
        "    --config \"configs/prompts/freeinit_examples/RealisticVision_v2.yaml\" \\\n",
        "    --num_iters 1 \\\n",
        "    --save_intermediate \\\n",
        "    --pretrained_model_path /content/FreeInit/examples/AnimateDiff/models/StableDiffusion \\\n",
        "    --use_fp16"
      ]
    }
  ],
  "metadata": {
    "accelerator": "GPU",
    "colab": {
      "gpuType": "T4",
      "provenance": []
    },
    "kernelspec": {
      "display_name": "Python 3",
      "name": "python3"
    },
    "language_info": {
      "name": "python"
    }
  },
  "nbformat": 4,
  "nbformat_minor": 0
}
